{
 "cells": [
  {
   "cell_type": "markdown",
   "metadata": {},
   "source": [
    "## Problem Statement"
   ]
  },
  {
   "cell_type": "markdown",
   "metadata": {},
   "source": [
    "Q.4 Implement a function longestWord() that takes a list of words and returns the longest one."
   ]
  },
  {
   "cell_type": "code",
   "execution_count": 69,
   "metadata": {},
   "outputs": [
    {
     "name": "stdout",
     "output_type": "stream",
     "text": [
      "Enter a sentence:abcd ddfd adadddd\n"
     ]
    },
    {
     "data": {
      "text/plain": [
       "'adadddd'"
      ]
     },
     "execution_count": 69,
     "metadata": {},
     "output_type": "execute_result"
    }
   ],
   "source": [
    "def long_Word(inputStr):\n",
    "    splitStr = inputStr.split()\n",
    "   # print(splitStr)\n",
    "    maximum_length = len(splitStr[0])\n",
    "    longest_word = splitStr[0]\n",
    "    for i in splitStr:\n",
    "        string_length = len(i)\n",
    "       # print(string_length)\n",
    "        if string_length >= maximum_length:\n",
    "            maximum_length=string_length\n",
    "            longest_word = i\n",
    "    return longest_word\n",
    "\n",
    "sentence = input(\"Enter a sentence:\")\n",
    "long_Word(sentence)\n"
   ]
  },
  {
   "cell_type": "markdown",
   "metadata": {},
   "source": [
    "Q.5 Write a Python Program(with class concepts) to find the area of the triangle using the below\n",
    "formula.\n",
    "\n",
    "area = (s*(s-a)*(s-b)*(s-c)) ** 0.5\n",
    "\n",
    "Function to take the length of the sides of triangle from user should be defined in the parent\n",
    "class and function to calculate the area should be defined in subclass."
   ]
  },
  {
   "cell_type": "code",
   "execution_count": 8,
   "metadata": {},
   "outputs": [
    {
     "name": "stdout",
     "output_type": "stream",
     "text": [
      "Enter side a:2\n",
      "Enter side b:2\n",
      "Enter side c:2\n",
      "area of triangle  1.7320508075688772\n"
     ]
    }
   ],
   "source": [
    "#parent area class\n",
    "class Area:\n",
    "  def __init__(self, a, b, c):\n",
    "    self.a = a\n",
    "    self.b = b\n",
    "    self.c = c\n",
    "\n",
    "class Triangle(Area): # define child class\n",
    "  # def __init__(self,a,b,c):\n",
    "    #Area.__init__(self,a,b,c)\n",
    "\n",
    "   def cal(self):\n",
    "     s = (a + b + c) * 0.5\n",
    "     area = (s*(s-a)*(s-b)*(s-c))** 0.5 \n",
    "     print(\"area of triangle \", area)\n",
    "\n",
    "    \n",
    "a = float(input(\"Enter side a:\"))\n",
    "b = float(input(\"Enter side b:\"))\n",
    "c = float(input(\"Enter side c:\"))\n",
    "tri = Triangle(a, b,c)\n",
    "tri.cal()"
   ]
  },
  {
   "cell_type": "markdown",
   "metadata": {},
   "source": [
    "    ## Q.6 Write a function filter_long_words() that takes a list of words and an integer n and returns the list of words that are longer than n."
   ]
  },
  {
   "cell_type": "code",
   "execution_count": 74,
   "metadata": {},
   "outputs": [
    {
     "name": "stdout",
     "output_type": "stream",
     "text": [
      "Enter a sentence:2233 werwer \n",
      "Enter integer n for length check:3\n"
     ]
    },
    {
     "data": {
      "text/plain": [
       "['2233', 'werwer']"
      ]
     },
     "execution_count": 74,
     "metadata": {},
     "output_type": "execute_result"
    }
   ],
   "source": [
    "def filter_long_words(inputStr,n):\n",
    "    splitStr = inputStr.split()\n",
    "    myList = []\n",
    "    for i in splitStr:\n",
    "        string_length = len(i)\n",
    "       # print(string_length)\n",
    "        if string_length >= n:\n",
    "           # maximum_length=string_length\n",
    "            #longest_word = i\n",
    "            myList.append(i)\n",
    "    return myList\n",
    "\n",
    "sent = input(\"Enter a sentence:\")\n",
    "n = int(input(\"Enter integer n for length check:\"))\n",
    "filter_long_words(sent,n)"
   ]
  },
  {
   "cell_type": "markdown",
   "metadata": {},
   "source": [
    "Q.7 Write a Python program using function concept that maps list of words into a list of integers\n",
    "representing the lengths of the corresponding words.\n",
    "    \n",
    "    Hint: If a list [ ab,cde,erty] is passed on to the python function output should come as [2,3,4]\n",
    "    Here 2,3 and 4 are the lengths of the words in the list."
   ]
  },
  {
   "cell_type": "code",
   "execution_count": 55,
   "metadata": {},
   "outputs": [
    {
     "name": "stdout",
     "output_type": "stream",
     "text": [
      "Enter a sentence:weqwe qwsdqwewqe\n",
      "[5, 10]\n"
     ]
    }
   ],
   "source": [
    "def length_words(input_String):\n",
    "     splitStr = input_String.split()\n",
    "     mylist = []\n",
    "     for str in splitStr:\n",
    "        mylist.append(len(str))\n",
    "     return mylist\n",
    "\n",
    "\n",
    "sentence = input(\"Enter a sentence:\")\n",
    "print(length_words(sentence))\n"
   ]
  },
  {
   "cell_type": "markdown",
   "metadata": {},
   "source": [
    "Q.8 Write a Python function which takes a character (i.e. a string of length 1) and returns True if it is\n",
    "a vowel, False otherwise."
   ]
  },
  {
   "cell_type": "code",
   "execution_count": 68,
   "metadata": {},
   "outputs": [
    {
     "name": "stdout",
     "output_type": "stream",
     "text": [
      "Enter a character of alphabet:we\n",
      "we is a consonant.\n",
      "False\n"
     ]
    }
   ],
   "source": [
    "def check_vowel(x):\n",
    "     if x in ('a', 'e', 'i', 'o', 'u'):\n",
    "            print(\"%s is a vowel.\" % x)\n",
    "            return True \n",
    "     else:\n",
    "            print(\"%s is a consonant.\" % x)\n",
    "            return False\n",
    "\n",
    "sentence = input(\"Enter a character of alphabet:\")\n",
    "print(check_vowel(sentence))\n"
   ]
  },
  {
   "cell_type": "markdown",
   "metadata": {},
   "source": [
    "## Great job!"
   ]
  },
  {
   "cell_type": "code",
   "execution_count": null,
   "metadata": {},
   "outputs": [],
   "source": []
  }
 ],
 "metadata": {
  "kernelspec": {
   "display_name": "Python 3",
   "language": "python",
   "name": "python3"
  },
  "language_info": {
   "codemirror_mode": {
    "name": "ipython",
    "version": 3
   },
   "file_extension": ".py",
   "mimetype": "text/x-python",
   "name": "python",
   "nbconvert_exporter": "python",
   "pygments_lexer": "ipython3",
   "version": "3.7.6"
  }
 },
 "nbformat": 4,
 "nbformat_minor": 2
}
